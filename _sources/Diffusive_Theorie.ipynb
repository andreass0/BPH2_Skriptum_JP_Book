{
 "cells": [
  {
   "cell_type": "markdown",
   "metadata": {
    "collapsed": true,
    "pycharm": {
     "name": "#%% md\n"
    }
   },
   "source": [
    "# Theoretische Grundlagen des diffusiven Wärme- und Feuchtetransportes\n",
    "\n",
    "Wenn eine Koppelung zwischen Wärme- und Feuchtetransport in einer Berechnung besteht spricht man allgemein von einer\n",
    "hygrothermischen Simulation. Diese Koppelung bringt den Vorteil, dass der Einfluss des Feuchtegehaltes auf die\n",
    "Wärmeleitfähigkeit berücksichtigt werden kann. Die Differentialgleichungen, welche für solche Berechnungen miteinander\n",
    "gekoppelt werden müssen, werden im folgenden vorgestellt, mit dem Ziel ein Verständnis für die unterliegenden Grundlagen\n",
    "und Konzepte zu vermitteln.\n",
    "\n",
    "## Allgemeine Transportgleichungen Diffusion\n",
    "\n",
    "### Wärmetransport\n",
    "\n",
    "Bei Betrachtung der Wärmeleitung ergibt sich aus Gleichung {eq}`delta_V_q_eq`\n",
    "\n",
    "$$ \\rho c \\frac{\\partial T}{\\partial t} = -\\nabla \\cdot q + h $$(dT_eq)\n",
    "\n",
    "Dabei beschreibt $h$ (J/(m³s)) eine Wärmequelle. Diese kann ausgelöst sein durch mechanisches Heizen, chemische\n",
    "Reaktionen etc.\n",
    "\n",
    "Die Wärmestromdichte q (J/(m²s) ist definiert als\n",
    "\n",
    "$$ q = q_{diff} + q_{conv}$$ (q_diff_conv_eq)\n",
    "\n",
    "wobei $q_{diff}$ den diffusiven Anteil und $q_{conv}$ den durch Konvektion tranportierten Anteil der Wärmestromdichte\n",
    "beschreibt. Bei Vernachlässigung konvektiver Phänomene können wir $q_{conv} = 0$ setzen.\n",
    "\n",
    "Für den diffusiven eindimensionalen Fall ist $q$ definiert als\n",
    "\n",
    "$$ q = q_{diff} = \\lambda \\cdot \\frac{T - (T + \\Delta T)}{\\Delta x}$$(q_delta_x_eq)\n",
    "$$ q = -\\lambda \\cdot \\frac{\\Delta T}{\\Delta x}$$(q_delta_x_eq)\n",
    "\n",
    "```{figure} img/Wärmebrücke/q_steady_state_wall.png\n",
    "---\n",
    "height: 250px\n",
    "name: q_steady_state_wall\n",
    "---\n",
    "Stationärer Wärmefluss durch ein finites Wandstück. {cite}`hagentoftIntroductionBuildingPhysics2001`\n",
    "```\n",
    "\n",
    "Gleichung {eq}`q_delta_x_eq` kann bei Grenzwertbetrachtung $\\lim \\limits_{\\Delta x \\to 0}$ übergeführt werden in den\n",
    "Differentialoperator\n",
    "\n",
    "$$ q = -\\lambda \\cdot \\frac{d T}{d x}$$(q_dx_eq)\n",
    "\n",
    "Mehrdimensional verallgemeinern lässt sich Gleichung {eq}`q_dx_eq` mittels des Nabla-Operators zu\n",
    "\n",
    "$$ q = -\\lambda \\cdot \\nabla T$$(q_nabla_eq)\n",
    "\n",
    "```{note}\n",
    "$\\lambda$ kann eine vektorielle Größe sein wodurch richtungsabhängigen Wärmeleitfähigkeiten berücksichtigt werden können.\n",
    "Falls also $\\lambda_{x} \\neq \\lambda_{y} \\neq \\lambda_{z}$.\n",
    "```\n",
    "\n",
    "Gleichung {eq}`q_nabla_eq` eingesetzt in Gleichung {eq}`dT_eq` führt auf\n",
    "\n",
    "$$ \\frac{\\partial T}{\\partial t} = \\frac {\\lambda}{\\rho c} \\nabla \\cdot (\\nabla T) = \\nabla^{2}T$$(dT_laplace_eq)\n",
    "\n",
    "Dabei beschreibt $\\nabla^{2}$ den Laplace-Operator:\n",
    "\n",
    "$$ \\nabla^{2} = \\frac{\\partial^{2}}{\\partial x^{2}} + \\frac{\\partial^{2}}{\\partial y^{2}} + \\frac{\\partial^{2}}{\\partial\n",
    "z^{2}} $$\n",
    "\n",
    "$$ \\nabla^{2}T = \\frac{\\partial^{2}T_{x}}{\\partial x^{2}} + \\frac{\\partial^{2}T_{y}}{\\partial y^{2}} +\n",
    "\\frac{\\partial^{2}T_{z}}{\\partial z^{2}} $$\n",
    "\n",
    "Multiplikation der Wärmestromdichte mit der entsprechend durchströmten Fläche $A$ in jm² führt auf den Wärmestrom $Q$ in\n",
    "J/s.\n",
    "\n",
    "### Feuchtetransport\n",
    "\n",
    "Analog zum Wärmetransport kann der Feuchtetransport durch Gleichung {eq}`w_eq` beschrieben werden:\n",
    "\n",
    "$$ \\frac{\\partial w}{\\partial t} = - \\nabla \\cdot g + m $$(w_eq)\n",
    "\n",
    "Hier steht $\\frac{\\partial w}{\\partial t}$ für die Veränderung des Wassergehaltes in kg/m³s, $g$ für die\n",
    "Feuchtestromdichte in kg/(m²s) und m für eine Feuchtequelle in kg/(m³s). Die Feuchtestromdichte setzt sich in porösen\n",
    "Medien zusammen aus der\n",
    "\n",
    "- Dampfdiffusionsstromdichte $g_{v}$ und\n",
    "- Flüssigwasserstromdichte $g_{l}$.\n",
    "\n",
    "$$ g = g_{v} + g_{l} $$ (g_eq)\n",
    "\n",
    "Wenn wir vorübergehend den Flüssigwassertransport vernachlässigen $g_{l} = 0$, was bei entsprechenden Randbedingungen\n",
    "eine [valide Annahme](Randbedingungen_Diffusive) darstellt, setzt sich die Dampfdiffusionsstromdichte $g_{v}$, ähnlich\n",
    "wie der Wärmefluss {eq}`q_diff_conv_eq`, aus einem diffusiven und konvektiven Anteil zusammen\n",
    "\n",
    "$$ g = g_{v} = g_{diff} + g_{conv} $$ (g_diff_conv_eq)\n",
    "\n",
    "Bei Vernachlässigung konvektiver Phänomene können wir wiederum $g_{conv} = 0$ setzen. Den noch verbleibenden Anteil der\n",
    "Feuchtstromdichte können wir in porösen Medien über das Fick'sche Gesetz beschreiben.\n",
    "\n",
    "```{figure} img/Wärmebrücke/g_steady.png\n",
    "---\n",
    "height: 250px\n",
    "name: g_steady\n",
    "---\n",
    "Feuchtestromdichte durch ein finites poröses Wandstück.\n",
    "```\n",
    "\n",
    "Dabei wird die Diffusion in ruhender Luft in Abhängigkeit gesetzt zu dem Dampfdruckgradienten $\\Delta v$ und einer\n",
    "Transportkonstante $\\delta_{v}$.\n",
    "\n",
    "$$ g = g_{diff} = \\delta_{v} \\cdot \\frac{v - (v + \\Delta v)}{\\Delta x} $$\n",
    "\n",
    "$$ g = -\\delta_{v} \\cdot \\frac{\\Delta v}{\\Delta x} $$ (g_delta_eq)\n",
    "\n",
    "$$ g = -\\frac{D}{\\mu} \\cdot \\frac{\\Delta v}{\\Delta x} $$ (g_delta_eq)\n",
    "\n",
    "Hierbei steht D (m²/s) für den temperaturabhängigen Diffusionskoeffizienten ruhender Luft, wobei $T$ in Grad Celsius\n",
    "einzusetzen ist\n",
    "\n",
    "$$ D = (22.2 + 0.14 \\cdot T) \\cdot 10^{-6}$$\n",
    "\n",
    "und $\\mu$ für einen Faktor den Widerstand zu beschreiben der zu Folge des porösen Mediums besteht. Dieser Widerstand\n",
    "entsteht einerseits durch\n",
    "\n",
    "- Reduktion des Vorhandenen Raumes für Diffusion und andererseits\n",
    "- zu Folge der längeren Wege die ein Dampf-Teilchen zu Folge eines Porennetzwerkes zurücklegen muss.\n",
    "\n",
    "Analog zum Wärmefluss kann Gleichung {eq}`g_delta_eq` bei Grenzwertbetrachtung $\\lim \\limits_{\\Delta x \\to 0}$\n",
    "übergeführt werden in den Differentialoperator\n",
    "\n",
    "$$ g = -\\delta_{v} \\cdot \\frac{d v}{\\Delta x} $$ (g_dx_eq)\n",
    "\n",
    "und mittels des Nabal-Operators mehrdimensional verallgemeinert werden zu\n",
    "\n",
    "$$ g = - \\delta_{v} \\cdot \\nabla v $$ (g_nabla_eq)\n",
    "\n",
    "## Numerische Lösung einer partiellen Differentialgleichung am Beispiel der Wärmeleitungsgleichung für Diffusion (in Bearbeitung)\n",
    "\n",
    "```{warning}\n",
    "Dieses Kapitel befindet sich noch in Bearbeitung!\n",
    "```\n",
    "\n",
    "```{note}\n",
    "Die hier dargestellten Ausführungen sind ein kurzer Auszug aus {cite}`waltherBuildingPhysicsApplications2021`. Das Werk\n",
    "ermöglicht einen einfachen, anwendungsbezogenen Einstieg in die numerische Lösung bauphysikalischer Problemstellungen.\n",
    "\n",
    "Die hier dargebrachten einfachen Methoden der Numerik, werden für das bessere Verständnis in einem simplen Python-Code implementiert und können über Binder Interaktiv auf der HTML-Seite ausprobiert werden.\n",
    "```\n",
    "Zur numerischen Lösung partieller Differentialgleichungen müssen einerseits die GLeichungen und andererseits die Problemdomäne diskretisiert werden. Dafür gibt es unterschiedliche Ansätze:\n",
    "\n",
    "- Finite Differenzen\n",
    "- Finite Elemente\n",
    "- Finite Volumen etc.\n",
    "\n",
    "Hier wird nur ein kurzer Überblick über die Finite Differenzen Methode gebracht und direkt auf die Wärmeleitungsgleichung angewendet.\n",
    "\n",
    "Da es sich bei der Wärmeleitungsgleichung um ein zeitabhängiges Problem handelt muss die Veränderung der Temperatur nach der Zeit $\\frac{dT}{dt}$ anschließend numerisch auf-integriert werden. Ansätze dafür wären:\n",
    "\n",
    "- Euler-Verfahren\n",
    "- Runge-Kutta-Verfahren\n",
    "- Adams-Bashforth-Verfahren etc.\n",
    "\n",
    "Wir werden die algebraische Lösung der zeitlichen Ableitung mittels des Euler-Verfahrens integriere um somit das Temperaturfeld zu lösen.\n",
    "\n",
    "```{note}\n",
    "Wahl des Diskretisierungs und Integrationsverfahrens ist abhängig von der Problemstellung.\n",
    "```\n",
    "\n",
    "### Diskretisierung - Finite Differenzen Methode\n",
    "\n",
    "Die Finite Differenzen Methode ermöglicht die Diskretisierung partieller Differentialgleichung und damit ihre Überführung in numerisch lösbare Formen. Wir betrachten für unser Beispiel einen eindimensionalen Fall (z.B einen Stab) mit konstanter Wärmeleitfähigkeit. Wenn wir $a$ definieren als $a = \\frac {\\lambda}{\\rho c}$ sieht die Diffusionsgleichung für Wärmeleitung folgendermaßen aus:\n",
    "\n",
    "$$ \\frac{dT}{dt} = a \\frac{dT}{dx^{2}}$$(temp_1d_eq)\n",
    "\n",
    "Für ein Element $i$ führt die diskrete Darstellung mittels finiter Differenzen auf:\n",
    "\n",
    "$$ \\frac{T_{i}^{+} - T_{i}}{\\Delta t} = a \\frac{T_{i+1} -2 T_{i} + T_{i-1}}{\\Delta x^{2}}$$(disk_temp_eq)\n",
    "\n",
    "Wenn wir als Randbedingungen $T_{(x=0)} = 0$ °C und $T_{(x=L)} = 10$ °C, Starttemperatur für das zu berechnende Feld $T_{x=1 bis L-1} = 0$ °C und z.B. $t = 100$ Sekunden (Simulationszeitraum) wählen, können wir nun mittels der rechten Seite von Gleichung {eq}`disk_temp_eq` die Verändeurng der Temperatur für jeden Zeitschritt berechnen.\n",
    "\n",
    "### Zeitliche Integration - Euler-Verfahren\n",
    "\n",
    "Nach jedem Zeitschritt muss mittels des Euler-Verfahrens aufintegriert werden. Betrachten wir die linke Seite von Gleichung {eq}`disk_temp_eq` können wir wiederholen, dass\n",
    "\n",
    "$$ \\frac{dT}{dt} \\approx  \\frac{T_{i}^{+} - T_{i}}{\\Delta t} $$(time_disk_eq)\n",
    "\n",
    "ist. Wir wissen weiters auch, dass die zeitliche Veränderung der Temperatur eine Funktion ist\n",
    "\n",
    "$$ \\frac{dT}{dt} = f $$(dt_f_eq)\n",
    "\n",
    "Diese Funktion kennen wir {eq}`temp_1d_eq`. Wenn wir nun {eq}`dt_f_eq` in {eq}`time_disk_eq` einsetzen und umformen, erhalten wir folgenden Zusammenhang\n",
    "\n",
    "$$ T_{i}^{+} = T_{i} + \\Delta t f $$(dt_euler_eq)\n",
    "\n",
    "und mittels unserer Definition von $f$ aus Gleichung {eq}`temp_1d_eq` und {eq}`disk_temp_eq` erhalten wir\n",
    "\n",
    "$$ T_{i}^{+} = T_{i} + \\Delta t a \\frac{T_{i+1} -2 T_{i} + T_{i-1}}{\\Delta x^{2}} $$(T_disk_eq)"
   ]
  },
  {
   "cell_type": "markdown",
   "source": [],
   "metadata": {
    "collapsed": false,
    "pycharm": {
     "name": "#%% md\n"
    }
   }
  },
  {
   "cell_type": "code",
   "execution_count": 1,
   "outputs": [],
   "source": [
    "import numpy as np\n",
    "import matplotlib.pyplot as plt\n",
    "from matplotlib.animation import FuncAnimation #für animierte Plots"
   ],
   "metadata": {
    "collapsed": false,
    "pycharm": {
     "name": "#%%\n"
    }
   }
  },
  {
   "cell_type": "code",
   "execution_count": 15,
   "outputs": [],
   "source": [
    "# Anzahl der Knoten (Diskretisierung)\n",
    "n = 100\n",
    "\n",
    "# T and T+ Vektoren erstellen und mit Startwert 0 °C initialisieren\n",
    "T_plus = np.zeros(n)\n",
    "T = np.zeros(n)\n",
    "\n",
    "# Simulations-Zeit\n",
    "sim_time = 100\n",
    "dt = 1\n",
    "\n",
    "#Geometrie und thermische Parameter\n",
    "L = 0.1  # m\n",
    "dx = L / n  #\n",
    "alpha = 1e-7  #m2/s\n",
    "Fo = alpha * dt / dx ** 2  # Fourier-Zahl"
   ],
   "metadata": {
    "collapsed": false,
    "pycharm": {
     "name": "#%%\n"
    }
   }
  },
  {
   "cell_type": "code",
   "execution_count": 17,
   "outputs": [
    {
     "data": {
      "text/plain": "<Figure size 432x288 with 1 Axes>",
      "image/png": "[encoded data removed]"
     },
     "metadata": {
      "needs_background": "light"
     },
     "output_type": "display_data"
    }
   ],
   "source": [
    "# Stabilitätskriterium\n",
    "if Fo > 0.5:\n",
    "    print(\"stability issue\")\n",
    "\n",
    "# Zeit\n",
    "t = 0\n",
    "while t < sim_time:\n",
    "    # Randbedingungen bleiben gleich\n",
    "    T[0] = 0\n",
    "    T[n - 1] = 10\n",
    "    # Berechnung innerhalb der Domäne\n",
    "    for i in range(1, n - 1):\n",
    "        # Ergebnis für neuen Zeitschritt berechnen\n",
    "        T_plus[i] = T[i] * (1 - 2 * Fo) + Fo * (T[i + 1] + T[i - 1])\n",
    "\n",
    "    # Altes Temperaturfeld mit soeben berechnetem überschreiben\n",
    "    T = T_plus\n",
    "    # Zeitschritt dazuzählen\n",
    "    t += dt\n",
    "# plotting\n",
    "x_pos = np.arange(0, L, dx)\n",
    "plt.xlabel(\"x position [m]\")\n",
    "plt.ylabel(\"Temperature [°C]\")\n",
    "plt.plot(x_pos, T_plus, 'o-', alpha=0.65)\n",
    "plt.show()"
   ],
   "metadata": {
    "collapsed": false,
    "pycharm": {
     "name": "#%%\n"
    }
   }
  },
  {
   "cell_type": "markdown",
   "source": [
    "Für einen beidseitig erhitzten Stab $T_{(x=0)} = 10$ °C und $T_{(x=L)} = 10$ °C wäre das Ergebnis:\n",
    "\n"
   ],
   "metadata": {
    "collapsed": false,
    "pycharm": {
     "name": "#%% md\n"
    }
   }
  },
  {
   "cell_type": "code",
   "execution_count": 9,
   "outputs": [
    {
     "data": {
      "text/plain": "<Figure size 432x288 with 1 Axes>",
      "image/png": "[encoded data removed]"
     },
     "metadata": {
      "needs_background": "light"
     },
     "output_type": "display_data"
    }
   ],
   "source": [
    "\n",
    "# Stabilitätskriterium\n",
    "if Fo > 0.5:\n",
    "    print(\"stability issue\")\n",
    "\n",
    "# Zeit\n",
    "t = 0\n",
    "while t < sim_time:\n",
    "    # Randbedingungen bleiben gleich\n",
    "    T[0] = 10\n",
    "    T[n - 1] = 10\n",
    "    # Berechnung innerhalb der Domäne\n",
    "    for i in range(1, n - 1):\n",
    "        # Ergebnis für neuen Zeitschritt berechnen\n",
    "        T_plus[i] = T[i] * (1 - 2 * Fo) + Fo * (T[i + 1] + T[i - 1])\n",
    "\n",
    "    # Altes Temperaturfeld mit soeben berechnetem überschreiben\n",
    "    T = T_plus\n",
    "    # Zeitschritt dazuzählen\n",
    "    t += dt\n",
    "\n",
    "# plotting\n",
    "x_pos = np.arange(0, L, dx)\n",
    "plt.xlabel(\"x position [m]\")\n",
    "plt.ylabel(\"Temperature [°C]\")\n",
    "plt.plot(x_pos, T_plus, 'o-', alpha=0.65)\n",
    "plt.show()"
   ],
   "metadata": {
    "collapsed": false,
    "pycharm": {
     "name": "#%%\n"
    }
   }
  },
  {
   "cell_type": "markdown",
   "source": [
    "Wenn wir mehr Zeitschritte rechnen $t = 2000$ Sekunden, erkennen wir, dass das Temperaturfeld danach strebt im gesamten Stab die selbe Temperatur anzunehmen."
   ],
   "metadata": {
    "collapsed": false,
    "pycharm": {
     "name": "#%% md\n"
    }
   }
  },
  {
   "cell_type": "code",
   "execution_count": 11,
   "outputs": [
    {
     "data": {
      "text/plain": "<Figure size 432x288 with 1 Axes>",
      "image/png": "[encoded data removed]"
     },
     "metadata": {
      "needs_background": "light"
     },
     "output_type": "display_data"
    }
   ],
   "source": [
    "# SimTime anpassen\n",
    "sim_time = 2000  # Sekunden\n",
    "\n",
    "# Stabilitätskriterium\n",
    "if Fo > 0.5:\n",
    "    print(\"stability issue\")\n",
    "\n",
    "# Zeit\n",
    "t = 0\n",
    "while t < sim_time:\n",
    "    # Randbedingungen bleiben gleich\n",
    "    T[0] = 10\n",
    "    T[n - 1] = 10\n",
    "    # Berechnung innerhalb der Domäne\n",
    "    for i in range(1, n - 1):\n",
    "        # Ergebnis für neuen Zeitschritt berechnen\n",
    "        T_plus[i] = T[i] * (1 - 2 * Fo) + Fo * (T[i + 1] + T[i - 1])\n",
    "\n",
    "    # Altes Temperaturfeld mit soeben berechnetem überschreiben\n",
    "    T = T_plus\n",
    "    # Zeitschritt dazuzählen\n",
    "    t += dt\n",
    "\n",
    "# plotting\n",
    "x_pos = np.arange(0, L, dx)\n",
    "plt.xlabel(\"x position [m]\")\n",
    "plt.ylabel(\"Temperature [°C]\")\n",
    "plt.plot(x_pos, T_plus, 'o-', alpha=0.65)\n",
    "plt.show()"
   ],
   "metadata": {
    "collapsed": false,
    "pycharm": {
     "name": "#%%\n"
    }
   }
  },
  {
   "cell_type": "markdown",
   "source": [
    "Nach einer ausreichenden Zeitdauer würde im gesamten Stab dieselbe Temperatur herrschen.\n",
    "\n",
    "```{note}\n",
    "Auf Grund der zeitlichen Variation des Wetters sind bei hygrothermischen Simulationen die Randbedingungen auch eine Funktion der Zeit.\n",
    "```"
   ],
   "metadata": {
    "collapsed": false,
    "pycharm": {
     "name": "#%% md\n"
    }
   }
  },
  {
   "cell_type": "markdown",
   "source": [
    "(Randbedingungen_Diffusive)=\n",
    "\n",
    "## Randbedingungen\n",
    "\n",
    "Der Wärmeübergangswiderstand $R_{s}$ in m²K/W setzt sich aus dem konvektiven $\\alpha_{c}$ und und radiativen\n",
    "Wärmeübergangskoeffizienten $\\alpha_{r}$ zusammen:\n",
    "\n",
    "$$ R_{s} = \\frac{1}{\\alpha_{c} + \\alpha_{r}}$$(R_s_eq)\n",
    "\n",
    "```{figure} img/Wärmebrücke/wärme_BT.png\n",
    "---\n",
    "height: 350px\n",
    "name: wärme_BT\n",
    "---\n",
    "\n",
    "```\n",
    "\n",
    "### Konvektiver Wärmeübergangskoeffizient\n",
    "\n",
    "Für Innenräume ist der konvektive Wärmeübergangskoeffizient definiert als:\n",
    "\n",
    "| Richtung des Wärmestroms | $\\alpha_{c,i}$ in /m²K |\n",
    "|--------------------------|------------------------|\n",
    "| aufwärts                 | 5                      |\n",
    "| horizontal               | 2.5                    |\n",
    "| abwärts                  | 0.7                    |\n",
    "\n",
    "Für Außenoberflächen ist $\\alpha_{c,e}$ vorrangig abhängig von der Windgeschwindigkeit v in m/s:\n",
    "\n",
    "$$ \\alpha_{c,e} = 4 + 4 \\cdot v $$\n",
    "\n",
    "### Radiativer Wärmeübergangskoeffizient\n",
    "\n",
    "Der radiative Wärmeübergangskoeffizient $\\alpha_{r}$ berechnet sich mittels des Emissionsgrades $\\epsilon$, der\n",
    "Stefan-Boltzmann-Konstante $\\sigma$ ($5.67 \\cdot 10^{-8}$ W/m²K<sup>4</sup>), der mittleren Außenoberflächentemperatur\n",
    "$T_{se}$ und der mittleren Himmelstemperatur $T_{sky}$ in Kelvin.\n",
    "\n",
    "$$ \\alpha_{r} = \\epsilon \\cdot 4 \\cdot \\sigma \\cdot \\left(\\frac{T_{se} + T_{sky}}{2}\\right)^{3} $$ (alpha_r_eq)\n",
    "\n",
    "Für übliche Verhältnisse kann der radiative Wärmeübergangskoeffizient jedoch angenähert werden zu:\n",
    "\n",
    "$$ \\alpha_{r} \\approx 5 \\cdot \\epsilon $$"
   ],
   "metadata": {
    "collapsed": false,
    "pycharm": {
     "name": "#%% md\n"
    }
   }
  }
 ],
 "metadata": {
  "kernelspec": {
   "display_name": "Python 3",
   "language": "python",
   "name": "python3"
  },
  "language_info": {
   "codemirror_mode": {
    "name": "ipython",
    "version": 2
   },
   "file_extension": ".py",
   "mimetype": "text/x-python",
   "name": "python",
   "nbconvert_exporter": "python",
   "pygments_lexer": "ipython2",
   "version": "2.7.6"
  }
 },
 "nbformat": 4,
 "nbformat_minor": 0
}