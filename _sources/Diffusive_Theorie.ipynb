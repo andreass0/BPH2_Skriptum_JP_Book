{
 "cells": [
  {
   "cell_type": "markdown",
   "metadata": {
    "collapsed": true,
    "pycharm": {
     "name": "#%% md\n"
    }
   },
   "source": [
    "# Theoretische Grundlagen des diffusiven Wärme- und Feuchtetransportes\n",
    "\n",
    "Wenn eine Koppelung zwischen Wärme- und Feuchtetransport in einer Berechnung besteht spricht man allgemein von einer\n",
    "hygrothermischen Simulation. Diese Koppelung bringt den Vorteil, dass der Einfluss des Feuchtegehaltes auf die\n",
    "Wärmeleitfähigkeit berücksichtigt werden kann. Die Differentialgleichungen, welche für solche Berechnungen miteinander\n",
    "gekoppelt werden müssen, werden im folgenden vorgestellt, mit dem Ziel ein Verständnis für die unterliegenden Grundlagen\n",
    "und Konzepte zu vermitteln.\n",
    "\n",
    "## Allgemeine Transportgleichungen Diffusion\n",
    "\n",
    "### Wärmetransport\n",
    "\n",
    "Bei Betrachtung der Wärmeleitung ergibt sich aus Gleichung {eq}`delta_V_q_eq`\n",
    "\n",
    "$$ \\rho c \\frac{\\partial T}{\\partial t} = -\\nabla \\cdot q + h $$(dT_eq)\n",
    "\n",
    "Dabei beschreibt $h$ (J/(m³s)) eine Wärmequelle. Diese kann ausgelöst sein durch mechanisches Heizen, chemische\n",
    "Reaktionen etc.\n",
    "\n",
    "Die Wärmestromdichte q (J/(m²s) ist definiert als\n",
    "\n",
    "$$ q = q_{diff} + q_{conv}$$ (q_diff_conv_eq)\n",
    "\n",
    "wobei $q_{diff}$ den diffusiven Anteil und $q_{conv}$ den durch Konvektion tranportierten Anteil der Wärmestromdichte\n",
    "beschreibt. Bei Vernachlässigung konvektiver Phänomene können wir $q_{conv} = 0$ setzen.\n",
    "\n",
    "Für den diffusiven eindimensionalen Fall ist $q$ definiert als\n",
    "\n",
    "$$ q = q_{diff} = \\lambda \\cdot \\frac{T - (T + \\Delta T)}{\\Delta x}$$(q_delta_x_eq)\n",
    "$$ q = -\\lambda \\cdot \\frac{\\Delta T}{\\Delta x}$$(q_delta_x_eq)\n",
    "\n",
    "```{figure} img/Wärmebrücke/q_steady_state_wall.png\n",
    "---\n",
    "height: 250px\n",
    "name: q_steady_state_wall\n",
    "---\n",
    "Stationärer Wärmefluss durch ein finites Wandstück. {cite}`hagentoftIntroductionBuildingPhysics2001`\n",
    "```\n",
    "\n",
    "Gleichung {eq}`q_delta_x_eq` kann bei Grenzwertbetrachtung $\\lim \\limits_{\\Delta x \\to 0}$ übergeführt werden in den\n",
    "Differentialoperator\n",
    "\n",
    "$$ q = -\\lambda \\cdot \\frac{d T}{d x}$$(q_dx_eq)\n",
    "\n",
    "Mehrdimensional verallgemeinern lässt sich Gleichung {eq}`q_dx_eq` mittels des Nabla-Operators zu\n",
    "\n",
    "$$ q = -\\lambda \\cdot \\nabla T$$(q_nabla_eq)\n",
    "\n",
    "```{note}\n",
    "$\\lambda$ kann eine vektorielle Größe sein wodurch richtungsabhängigen Wärmeleitfähigkeiten berücksichtigt werden können.\n",
    "Falls also $\\lambda_{x} \\neq \\lambda_{y} \\neq \\lambda_{z}$.\n",
    "```\n",
    "\n",
    "Gleichung {eq}`q_nabla_eq` eingesetzt in Gleichung {eq}`dT_eq` führt auf\n",
    "\n",
    "$$ \\frac {\\lambda}{\\rho c} \\frac{\\partial T}{\\partial t} = \\nabla \\cdot (\\nabla T) = \\nabla^{2}T$$(dT_laplace_eq)\n",
    "\n",
    "Dabei beschreibt $\\nabla^{2}$ den Laplace-Operator:\n",
    "\n",
    "$$ \\nabla^{2} = \\frac{\\partial^{2}}{\\partial x^{2}} + \\frac{\\partial^{2}}{\\partial y^{2}} + \\frac{\\partial^{2}}{\\partial\n",
    "z^{2}} $$\n",
    "\n",
    "$$ \\nabla^{2}T = \\frac{\\partial^{2}T_{x}}{\\partial x^{2}} + \\frac{\\partial^{2}T_{y}}{\\partial y^{2}} +\n",
    "\\frac{\\partial^{2}T_{z}}{\\partial z^{2}} $$\n",
    "\n",
    "Multiplikation der Wärmestromdichte mit der entsprechend durchströmten Fläche $A$ in jm² führt auf den Wärmestrom $Q$ in\n",
    "J/s.\n",
    "\n",
    "### Feuchtetransport\n",
    "\n",
    "Analog zum Wärmetransport kann der Feuchtetransport durch Gleichung {eq}`w_eq` beschrieben werden:\n",
    "\n",
    "$$ \\frac{\\partial w}{\\partial t} = - \\nabla \\cdot g + m $$(w_eq)\n",
    "\n",
    "Hier steht $\\frac{\\partial w}{\\partial t}$ für die Veränderung des Wassergehaltes in kg/m³s, $g$ für die\n",
    "Feuchtestromdichte in kg/(m²s) und m für eine Feuchtequelle in kg/(m³s). Die Feuchtestromdichte setzt sich in porösen\n",
    "Medien zusammen aus der\n",
    "\n",
    "- Dampfdiffusionsstromdichte $g_{v}$ und\n",
    "- Flüssigwasserstromdichte $g_{l}$.\n",
    "\n",
    "$$ g = g_{v} + g_{l} $$ (g_eq)\n",
    "\n",
    "Wenn wir vorübergehend den Flüssigwassertransport vernachlässigen $g_{l} = 0$, was bei entsprechenden Randbedingungen\n",
    "eine [valide Annahme](Randbedingungen_Diffusive) darstellt, setzt sich die Dampfdiffusionsstromdichte $g_{v}$, ähnlich\n",
    "wie der Wärmefluss {eq}`q_diff_conv_eq`, aus einem diffusiven und konvektiven Anteil zusammen\n",
    "\n",
    "$$ g = g_{v} = g_{diff} + g_{conv} $$ (g_diff_conv_eq)\n",
    "\n",
    "Bei Vernachlässigung konvektiver Phänomene können wir wiederum $g_{conv} = 0$ setzen. Den noch verbleibenden Anteil der\n",
    "Feuchtstromdichte können wir in porösen Medien über das Fick'sche Gesetz beschreiben.\n",
    "\n",
    "```{figure} img/Wärmebrücke/g_steady.png\n",
    "---\n",
    "height: 250px\n",
    "name: g_steady\n",
    "---\n",
    "Feuchtestromdichte durch ein finites poröses Wandstück.\n",
    "```\n",
    "\n",
    "Dabei wird die Diffusion in ruhender Luft in Abhängigkeit gesetzt zu dem Dampfdruckgradienten $\\Delta v$ und einer\n",
    "Transportkonstante $\\delta_{v}$.\n",
    "\n",
    "$$ g = g_{diff} = \\delta_{v} \\cdot \\frac{v - (v + \\Delta v)}{\\Delta x} $$\n",
    "\n",
    "$$ g = -\\delta_{v} \\cdot \\frac{\\Delta v}{\\Delta x} $$ (g_delta_eq)\n",
    "\n",
    "$$ g = -\\frac{D}{\\mu} \\cdot \\frac{\\Delta v}{\\Delta x} $$ (g_delta_eq)\n",
    "\n",
    "Hierbei steht D (m²/s) für den temperaturabhängigen Diffusionskoeffizienten ruhender Luft, wobei $T$ in Grad Celsius\n",
    "einzusetzen ist\n",
    "\n",
    "$$ D = (22.2 + 0.14 \\cdot T) \\cdot 10^{-6}$$\n",
    "\n",
    "und $\\mu$ für einen Faktor den Widerstand zu beschreiben der zu Folge des porösen Mediums besteht. Dieser Widerstand\n",
    "entsteht einerseits durch\n",
    "\n",
    "- Reduktion des Vorhandenen Raumes für Diffusion und andererseits\n",
    "- zu Folge der längeren Wege die ein Dampf-Teilchen zu Folge eines Porennetzwerkes zurücklegen muss.\n",
    "\n",
    "Analog zum Wärmefluss kann Gleichung {eq}`g_delta_eq` bei Grenzwertbetrachtung $\\lim \\limits_{\\Delta x \\to 0}$\n",
    "übergeführt werden in den Differentialoperator\n",
    "\n",
    "$$ g = -\\delta_{v} \\cdot \\frac{d v}{\\Delta x} $$ (g_dx_eq)\n",
    "\n",
    "und mittels des Nabal-Operators mehrdimensional verallgemeinert werden zu\n",
    "\n",
    "$$ g = - \\delta_{v} \\cdot \\nabla v $$ (g_nabla_eq)\n",
    "\n",
    "## Numerische Lösung einer partiellen Differentialgleichung am Beispiel der Wärmeleitung\n",
    "\n",
    "Die hier dargestellten Ausführungen sind ein kurzer Auszug aus {cite}`waltherBuildingPhysicsApplications2021`. Das Werk\n",
    "ermöglicht einen einfachen, anwendungsbezogenen Einstieg in die numerische Lösung bauphysikalischer Problemstellungen.\n",
    "\n",
    "Die hier dargebrachten einfachen Methoden der Numerik, werden für das bessere Verständnis in einem simplen Python-Code implementiert und können über Binder Interaktiv ausprobiert werden."
   ]
  },
  {
   "cell_type": "markdown",
   "source": [],
   "metadata": {
    "collapsed": false,
    "pycharm": {
     "name": "#%% md\n"
    }
   }
  },
  {
   "cell_type": "code",
   "execution_count": 1,
   "outputs": [],
   "source": [
    "import numpy as np\n",
    "import matplotlib.pyplot as plt"
   ],
   "metadata": {
    "collapsed": false,
    "pycharm": {
     "name": "#%%\n"
    }
   }
  },
  {
   "cell_type": "code",
   "execution_count": 9,
   "outputs": [],
   "source": [
    "\n",
    "# number of nodes\n",
    "n = 100\n",
    "# prepare the T and T+ arrays\n",
    "T_plus = np.zeros(n)\n",
    "T = np.zeros(n)\n",
    "# time\n",
    "sim_time = 2000\n",
    "dt = 1\n",
    "\n",
    "#geometry and thermal props\n",
    "L = 0.1  # m\n",
    "dx = L / n  #\n",
    "alpha = 1e-7  #m2/s\n",
    "Fo = alpha * dt / dx ** 2  # Fourier"
   ],
   "metadata": {
    "collapsed": false,
    "pycharm": {
     "name": "#%%\n"
    }
   }
  },
  {
   "cell_type": "code",
   "execution_count": 10,
   "outputs": [
    {
     "data": {
      "text/plain": "<Figure size 432x288 with 1 Axes>",
      "image/png": "[encoded data removed]"
     },
     "metadata": {
      "needs_background": "light"
     },
     "output_type": "display_data"
    }
   ],
   "source": [
    "\n",
    "# stability check\n",
    "if Fo > 0.5:\n",
    "    print(\"stability issue\")\n",
    "# time\n",
    "t = 0\n",
    "while t < sim_time:\n",
    "    # boundary conditions\n",
    "    T[0] = 0\n",
    "    T[n - 1] = 10\n",
    "    # inside the domain\n",
    "    for i in range(1, n - 1):\n",
    "        T_plus[i] = T[i] * (1 - 2 * Fo) + Fo * (T[i + 1] + T[i - 1])\n",
    "    T = T_plus  # replace T by T+\n",
    "    t += dt\n",
    "# plotting\n",
    "x_pos = np.arange(0, L, dx)\n",
    "plt.xlabel(\"x position [m]\")\n",
    "plt.ylabel(\"Temperature [°C]\")\n",
    "plt.plot(x_pos, T_plus, 'o-', alpha=0.65)\n",
    "plt.show()"
   ],
   "metadata": {
    "collapsed": false,
    "pycharm": {
     "name": "#%%\n"
    }
   }
  },
  {
   "cell_type": "markdown",
   "source": [
    "(Randbedingungen_Diffusive)=\n",
    "\n",
    "## Randbedingungen\n",
    "\n",
    "Der Wärmeübergangswiderstand $R_{s}$ in m²K/W setzt sich aus dem konvektiven $\\alpha_{c}$ und und radiativen\n",
    "Wärmeübergangskoeffizienten $\\alpha_{r}$ zusammen:\n",
    "\n",
    "$$ R_{s} = \\frac{1}{\\alpha_{c} + \\alpha_{r}}$$(R_s_eq)\n",
    "\n",
    "```{figure} img/Wärmebrücke/wärme_BT.png\n",
    "---\n",
    "height: 350px\n",
    "name: wärme_BT\n",
    "---\n",
    "\n",
    "```\n",
    "\n",
    "### Konvektiver Wärmeübergangskoeffizient\n",
    "\n",
    "Für Innenräume ist der konvektive Wärmeübergangskoeffizient definiert als:\n",
    "\n",
    "| Richtung des Wärmestroms | $\\alpha_{c,i}$ in /m²K |\n",
    "|--------------------------|------------------------|\n",
    "| aufwärts                 | 5                      |\n",
    "| horizontal               | 2.5                    |\n",
    "| abwärts                  | 0.7                    |\n",
    "\n",
    "Für Außenoberflächen ist $\\alpha_{c,e}$ vorrangig abhängig von der Windgeschwindigkeit v in m/s:\n",
    "\n",
    "$$ \\alpha_{c,e} = 4 + 4 \\cdot v $$\n",
    "\n",
    "### Radiativer Wärmeübergangskoeffizient\n",
    "\n",
    "Der radiative Wärmeübergangskoeffizient $\\alpha_{r}$ berechnet sich mittels des Emissionsgrades $\\epsilon$, der\n",
    "Stefan-Boltzmann-Konstante $\\sigma$ ($5.67 \\cdot 10^{-8}$ W/m²K<sup>4</sup>), der mittleren Außenoberflächentemperatur\n",
    "$T_{se}$ und der mittleren Himmelstemperatur $T_{sky}$ in Kelvin.\n",
    "\n",
    "$$ \\alpha_{r} = \\epsilon \\cdot 4 \\cdot \\sigma \\cdot \\left(\\frac{T_{se} + T_{sky}}{2}\\right)^{3} $$ (alpha_r_eq)\n",
    "\n",
    "Für übliche Verhältnisse kann der radiative Wärmeübergangskoeffizient jedoch angenähert werden zu:\n",
    "\n",
    "$$ \\alpha_{r} \\approx 5 \\cdot \\epsilon $$"
   ],
   "metadata": {
    "collapsed": false,
    "pycharm": {
     "name": "#%% md\n"
    }
   }
  }
 ],
 "metadata": {
  "kernelspec": {
   "display_name": "Python 3",
   "language": "python",
   "name": "python3"
  },
  "language_info": {
   "codemirror_mode": {
    "name": "ipython",
    "version": 2
   },
   "file_extension": ".py",
   "mimetype": "text/x-python",
   "name": "python",
   "nbconvert_exporter": "python",
   "pygments_lexer": "ipython2",
   "version": "2.7.6"
  }
 },
 "nbformat": 4,
 "nbformat_minor": 0
}